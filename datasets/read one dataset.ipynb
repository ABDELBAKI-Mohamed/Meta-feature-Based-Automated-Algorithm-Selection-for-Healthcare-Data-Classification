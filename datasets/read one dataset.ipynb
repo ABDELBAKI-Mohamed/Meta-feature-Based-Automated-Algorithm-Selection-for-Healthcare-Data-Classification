{
 "cells": [
  {
   "cell_type": "code",
   "execution_count": null,
   "metadata": {},
   "outputs": [],
   "source": [
    "import pandas as pd\n",
    "from sklearn.model_selection import StratifiedKFold\n",
    "from sklearn.model_selection import cross_val_score"
   ]
  },
  {
   "cell_type": "code",
   "execution_count": null,
   "metadata": {},
   "outputs": [],
   "source": [
    "preterm = pd.read_csv(\"preterm.csv\")\n",
    "preterm[\"Pre-term\"].value_counts()"
   ]
  },
  {
   "cell_type": "code",
   "execution_count": null,
   "metadata": {},
   "outputs": [],
   "source": [
    "n_splits = 5\n",
    "stratified_kfold = StratifiedKFold(n_splits=n_splits, shuffle=True, random_state=42)"
   ]
  },
  {
   "cell_type": "code",
   "execution_count": null,
   "metadata": {},
   "outputs": [],
   "source": [
    "stratified_kfold"
   ]
  },
  {
   "cell_type": "code",
   "execution_count": 25,
   "metadata": {},
   "outputs": [],
   "source": [
    "X = preterm.drop(\"Pre-term\",axis=1)\n",
    "y = preterm[\"Pre-term\"]"
   ]
  },
  {
   "cell_type": "code",
   "execution_count": 24,
   "metadata": {},
   "outputs": [],
   "source": [
    "for train_index, test_index in stratified_kfold.split(X, y):\n",
    "    # Obtain the training and testing data for this fold\n",
    "    X_train, X_test = X.iloc[train_index], X.iloc[test_index]\n",
    "    y_train, y_test = y.iloc[train_index], y.iloc[test_index]"
   ]
  },
  {
   "cell_type": "code",
   "execution_count": 26,
   "metadata": {},
   "outputs": [
    {
     "data": {
      "text/html": [
       "<div>\n",
       "<style scoped>\n",
       "    .dataframe tbody tr th:only-of-type {\n",
       "        vertical-align: middle;\n",
       "    }\n",
       "\n",
       "    .dataframe tbody tr th {\n",
       "        vertical-align: top;\n",
       "    }\n",
       "\n",
       "    .dataframe thead th {\n",
       "        text-align: right;\n",
       "    }\n",
       "</style>\n",
       "<table border=\"1\" class=\"dataframe\">\n",
       "  <thead>\n",
       "    <tr style=\"text-align: right;\">\n",
       "      <th></th>\n",
       "      <th>Unnamed: 0</th>\n",
       "      <th>Entropy</th>\n",
       "      <th>Contraction times</th>\n",
       "      <th>Count Contraction</th>\n",
       "      <th>lenght of contraction</th>\n",
       "      <th>STD</th>\n",
       "    </tr>\n",
       "  </thead>\n",
       "  <tbody>\n",
       "    <tr>\n",
       "      <th>0</th>\n",
       "      <td>0</td>\n",
       "      <td>1.860</td>\n",
       "      <td>2</td>\n",
       "      <td>0.885773</td>\n",
       "      <td>0.955750</td>\n",
       "      <td>0.701224</td>\n",
       "    </tr>\n",
       "    <tr>\n",
       "      <th>3</th>\n",
       "      <td>3</td>\n",
       "      <td>1.731</td>\n",
       "      <td>2</td>\n",
       "      <td>0.999918</td>\n",
       "      <td>0.067102</td>\n",
       "      <td>0.712814</td>\n",
       "    </tr>\n",
       "    <tr>\n",
       "      <th>6</th>\n",
       "      <td>6</td>\n",
       "      <td>1.790</td>\n",
       "      <td>2</td>\n",
       "      <td>0.803761</td>\n",
       "      <td>0.088499</td>\n",
       "      <td>0.736249</td>\n",
       "    </tr>\n",
       "    <tr>\n",
       "      <th>10</th>\n",
       "      <td>10</td>\n",
       "      <td>1.777</td>\n",
       "      <td>2</td>\n",
       "      <td>0.891169</td>\n",
       "      <td>1.000000</td>\n",
       "      <td>0.691618</td>\n",
       "    </tr>\n",
       "    <tr>\n",
       "      <th>19</th>\n",
       "      <td>19</td>\n",
       "      <td>0.701</td>\n",
       "      <td>1</td>\n",
       "      <td>0.040229</td>\n",
       "      <td>0.017154</td>\n",
       "      <td>0.811320</td>\n",
       "    </tr>\n",
       "    <tr>\n",
       "      <th>20</th>\n",
       "      <td>20</td>\n",
       "      <td>0.821</td>\n",
       "      <td>1</td>\n",
       "      <td>0.038594</td>\n",
       "      <td>0.035033</td>\n",
       "      <td>0.332732</td>\n",
       "    </tr>\n",
       "    <tr>\n",
       "      <th>24</th>\n",
       "      <td>24</td>\n",
       "      <td>0.892</td>\n",
       "      <td>1</td>\n",
       "      <td>0.032952</td>\n",
       "      <td>0.017888</td>\n",
       "      <td>0.370866</td>\n",
       "    </tr>\n",
       "    <tr>\n",
       "      <th>32</th>\n",
       "      <td>32</td>\n",
       "      <td>0.519</td>\n",
       "      <td>0</td>\n",
       "      <td>0.022322</td>\n",
       "      <td>0.004602</td>\n",
       "      <td>0.376469</td>\n",
       "    </tr>\n",
       "    <tr>\n",
       "      <th>36</th>\n",
       "      <td>36</td>\n",
       "      <td>0.591</td>\n",
       "      <td>0</td>\n",
       "      <td>0.016599</td>\n",
       "      <td>0.000000</td>\n",
       "      <td>0.639153</td>\n",
       "    </tr>\n",
       "    <tr>\n",
       "      <th>38</th>\n",
       "      <td>38</td>\n",
       "      <td>0.509</td>\n",
       "      <td>0</td>\n",
       "      <td>0.015536</td>\n",
       "      <td>0.000000</td>\n",
       "      <td>0.636198</td>\n",
       "    </tr>\n",
       "    <tr>\n",
       "      <th>39</th>\n",
       "      <td>39</td>\n",
       "      <td>0.498</td>\n",
       "      <td>0</td>\n",
       "      <td>0.015781</td>\n",
       "      <td>0.000000</td>\n",
       "      <td>0.872620</td>\n",
       "    </tr>\n",
       "    <tr>\n",
       "      <th>57</th>\n",
       "      <td>57</td>\n",
       "      <td>0.439</td>\n",
       "      <td>0</td>\n",
       "      <td>0.008258</td>\n",
       "      <td>0.001473</td>\n",
       "      <td>0.493154</td>\n",
       "    </tr>\n",
       "  </tbody>\n",
       "</table>\n",
       "</div>"
      ],
      "text/plain": [
       "    Unnamed: 0  Entropy  Contraction times  Count Contraction  \\\n",
       "0            0    1.860                  2           0.885773   \n",
       "3            3    1.731                  2           0.999918   \n",
       "6            6    1.790                  2           0.803761   \n",
       "10          10    1.777                  2           0.891169   \n",
       "19          19    0.701                  1           0.040229   \n",
       "20          20    0.821                  1           0.038594   \n",
       "24          24    0.892                  1           0.032952   \n",
       "32          32    0.519                  0           0.022322   \n",
       "36          36    0.591                  0           0.016599   \n",
       "38          38    0.509                  0           0.015536   \n",
       "39          39    0.498                  0           0.015781   \n",
       "57          57    0.439                  0           0.008258   \n",
       "\n",
       "    lenght of contraction       STD  \n",
       "0                0.955750  0.701224  \n",
       "3                0.067102  0.712814  \n",
       "6                0.088499  0.736249  \n",
       "10               1.000000  0.691618  \n",
       "19               0.017154  0.811320  \n",
       "20               0.035033  0.332732  \n",
       "24               0.017888  0.370866  \n",
       "32               0.004602  0.376469  \n",
       "36               0.000000  0.639153  \n",
       "38               0.000000  0.636198  \n",
       "39               0.000000  0.872620  \n",
       "57               0.001473  0.493154  "
      ]
     },
     "execution_count": 26,
     "metadata": {},
     "output_type": "execute_result"
    }
   ],
   "source": [
    "splits = stratified_kfold.split(X, y)\n",
    "splits_array = [b for a,b in splits]\n",
    "X.iloc[splits_array[0]]"
   ]
  },
  {
   "cell_type": "code",
   "execution_count": null,
   "metadata": {},
   "outputs": [],
   "source": [
    "scores = cross_val_score(model, X, y, cv=stratified_kfold)"
   ]
  }
 ],
 "metadata": {
  "kernelspec": {
   "display_name": "Python 3.10.9 64-bit (microsoft store)",
   "language": "python",
   "name": "python3"
  },
  "language_info": {
   "codemirror_mode": {
    "name": "ipython",
    "version": 3
   },
   "file_extension": ".py",
   "mimetype": "text/x-python",
   "name": "python",
   "nbconvert_exporter": "python",
   "pygments_lexer": "ipython3",
   "version": "3.10.11"
  },
  "orig_nbformat": 4,
  "vscode": {
   "interpreter": {
    "hash": "1961d10655999fc8e87af894448e5d9193e8f562985b7a28acbe1118e322c92a"
   }
  }
 },
 "nbformat": 4,
 "nbformat_minor": 2
}
