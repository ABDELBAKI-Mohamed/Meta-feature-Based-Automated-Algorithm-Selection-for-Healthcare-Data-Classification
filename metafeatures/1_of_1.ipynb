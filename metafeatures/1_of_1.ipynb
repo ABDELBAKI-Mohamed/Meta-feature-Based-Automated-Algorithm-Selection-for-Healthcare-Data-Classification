{
 "cells": [
  {
   "cell_type": "code",
   "execution_count": 1,
   "metadata": {},
   "outputs": [],
   "source": [
    "import warnings\n",
    "warnings.filterwarnings('ignore')"
   ]
  },
  {
   "cell_type": "code",
   "execution_count": 2,
   "metadata": {},
   "outputs": [],
   "source": [
    "import os\n",
    "import pandas as pd\n",
    "from pymfe.mfe import MFE\n",
    "from sklearn.utils import shuffle\n",
    "from sklearn.model_selection import StratifiedKFold\n",
    "import json"
   ]
  },
  {
   "cell_type": "code",
   "execution_count": 3,
   "metadata": {},
   "outputs": [],
   "source": [
    "with open('../datasets/index.json', 'r') as file:\n",
    "    files = json.load(file)"
   ]
  },
  {
   "cell_type": "code",
   "execution_count": null,
   "metadata": {},
   "outputs": [],
   "source": [
    "metafeature_labels = []\n",
    "\n",
    "for file in files:\n",
    "\n",
    "    dataset = pd.read_csv(f\"../datasets/{file['file']}\")\n",
    "\n",
    "    X = dataset.drop(file[\"target\"],axis=1)\n",
    "    y = dataset[file[\"target\"]]\n",
    "\n",
    "    n_splits = 1\n",
    "\n",
    "    splitted = False\n",
    "\n",
    "    if len(X)>30000:\n",
    "        n_splits = len(X)//15000\n",
    "        stratified_kfold = StratifiedKFold(n_splits=n_splits, shuffle=True, random_state=33)\n",
    "        splits = stratified_kfold.split(X, y)\n",
    "        splits_array = [b for a,b in splits]\n",
    "        splitted = True\n",
    "\n",
    "    split = 0\n",
    "\n",
    "    X_split, y_split = X, y\n",
    "\n",
    "    if splitted:\n",
    "        X_split, y_split = X.iloc[splits_array[split]], y.iloc[splits_array[split]]\n",
    "\n",
    "    metafeature_label = {'dataset':f\"{file['name']}_{split+1}_of_{n_splits}\"}\n",
    "\n",
    "    metafeature_labels.append(metafeature_label)\n",
    "\n",
    "metafeature_labels\n",
    "metafeature_labels_df = pd.DataFrame(metafeature_labels)\n",
    "metafeature_labels_df.to_csv(f'../metafeatures/splits/labels_1_of_{n_splits}.csv',index=False)"
   ]
  },
  {
   "cell_type": "code",
   "execution_count": 4,
   "metadata": {},
   "outputs": [],
   "source": [
    "mfe = MFE(groups='all')"
   ]
  },
  {
   "cell_type": "code",
   "execution_count": null,
   "metadata": {},
   "outputs": [],
   "source": [
    "metafeatures = []\n",
    "\n",
    "for file in files:\n",
    "\n",
    "    dataset = pd.read_csv(f\"../datasets/{file['file']}\")\n",
    "\n",
    "    X = dataset.drop(file[\"target\"],axis=1)\n",
    "    y = dataset[file[\"target\"]]\n",
    "\n",
    "    n_splits = 1\n",
    "\n",
    "    splitted = False\n",
    "\n",
    "    if len(X)>30000:\n",
    "        n_splits = len(X)//15000\n",
    "        stratified_kfold = StratifiedKFold(n_splits=n_splits, shuffle=True, random_state=33)\n",
    "        splits = stratified_kfold.split(X, y)\n",
    "        splits_array = [b for a,b in splits]\n",
    "        splitted = True\n",
    "\n",
    "    split = 0\n",
    "\n",
    "    X_split, y_split = X, y\n",
    "\n",
    "    if splitted:\n",
    "        X_split, y_split = X.iloc[splits_array[split]], y.iloc[splits_array[split]]\n",
    "\n",
    "    metafeature = {'dataset':f\"{file['name']}_{split+1}_of_{n_splits}\"}\n",
    "\n",
    "    mfe.fit(X_split.to_numpy(), y_split.to_numpy())\n",
    "    ft = mfe.extract()\n",
    "    metafeature = {label: value for label, value in zip(ft[0], ft[1])}\n",
    "    print(metafeature)\n",
    "    metafeatures.append(metafeature)"
   ]
  },
  {
   "cell_type": "code",
   "execution_count": 6,
   "metadata": {},
   "outputs": [
    {
     "data": {
      "text/plain": [
       "[{'dataset': 'covid19_1_of_69'},\n",
       " {'dataset': 'diabetes_1_of_1'},\n",
       " {'dataset': 'symptoms_1_of_1'},\n",
       " {'dataset': 'stroke_1_of_1'},\n",
       " {'dataset': 'hepatitisC_1_of_1'},\n",
       " {'dataset': 'cirrhosis_1_of_1'},\n",
       " {'dataset': 'heartDisease_1_of_1'},\n",
       " {'dataset': 'heartFailure_1_of_1'},\n",
       " {'dataset': 'cardioDisease_1_of_4'},\n",
       " {'dataset': 'indianLiver_1_of_1'},\n",
       " {'dataset': 'heartCleaveland_1_of_1'},\n",
       " {'dataset': 'wisconsin_1_of_1'},\n",
       " {'dataset': 'hypothyroid_1_of_1'},\n",
       " {'dataset': 'appendicitis_1_of_1'},\n",
       " {'dataset': 'framingham_1_of_1'},\n",
       " {'dataset': 'lowerback_1_of_1'},\n",
       " {'dataset': 'breastCancer_1_of_1'},\n",
       " {'dataset': 'heart2020_1_of_21'},\n",
       " {'dataset': 'autism_1_of_1'},\n",
       " {'dataset': 'obesity_1_of_1'},\n",
       " {'dataset': 'heartBeat_1_of_1'},\n",
       " {'dataset': 'stress_1_of_1'},\n",
       " {'dataset': 'fetalHealth_1_of_1'},\n",
       " {'dataset': 'fetalCardio_1_of_1'},\n",
       " {'dataset': 'diabetes2019_1_of_1'},\n",
       " {'dataset': 'thoracic_1_of_1'},\n",
       " {'dataset': 'preterm_1_of_1'},\n",
       " {'dataset': 'arrhythmiaBinary_1_of_6'},\n",
       " {'dataset': 'cervicalCancer_1_of_1'},\n",
       " {'dataset': 'epilepsy_1_of_1'}]"
      ]
     },
     "execution_count": 6,
     "metadata": {},
     "output_type": "execute_result"
    }
   ],
   "source": []
  },
  {
   "cell_type": "code",
   "execution_count": null,
   "metadata": {},
   "outputs": [],
   "source": [
    "metafeatures_df = pd.DataFrame(metafeatures)\n",
    "metafeatures_df"
   ]
  },
  {
   "cell_type": "code",
   "execution_count": null,
   "metadata": {},
   "outputs": [],
   "source": [
    "metafeatures_df.to_csv('../metafeatures/splits/1_of_1.csv',index=False)"
   ]
  }
 ],
 "metadata": {
  "kernelspec": {
   "display_name": "Python 3.10.9 64-bit (microsoft store)",
   "language": "python",
   "name": "python3"
  },
  "language_info": {
   "codemirror_mode": {
    "name": "ipython",
    "version": 3
   },
   "file_extension": ".py",
   "mimetype": "text/x-python",
   "name": "python",
   "nbconvert_exporter": "python",
   "pygments_lexer": "ipython3",
   "version": "3.10.11"
  },
  "orig_nbformat": 4,
  "vscode": {
   "interpreter": {
    "hash": "1961d10655999fc8e87af894448e5d9193e8f562985b7a28acbe1118e322c92a"
   }
  }
 },
 "nbformat": 4,
 "nbformat_minor": 2
}
