{
 "cells": [
  {
   "cell_type": "code",
   "execution_count": null,
   "metadata": {},
   "outputs": [],
   "source": [
    "import warnings\n",
    "warnings.filterwarnings('ignore')"
   ]
  },
  {
   "cell_type": "code",
   "execution_count": null,
   "metadata": {},
   "outputs": [],
   "source": [
    "import pandas as pd\n",
    "from sklearn.model_selection import cross_val_score\n",
    "from sklearn.model_selection import StratifiedKFold\n",
    "from sklearn.utils import shuffle\n",
    "from sklearn.neighbors import KNeighborsClassifier\n",
    "from sklearn.linear_model import LogisticRegression\n",
    "from sklearn.tree import DecisionTreeClassifier\n",
    "from sklearn.ensemble import RandomForestClassifier\n",
    "from sklearn.naive_bayes import GaussianNB\n",
    "from sklearn.ensemble import GradientBoostingClassifier\n",
    "from sklearn.neural_network import MLPClassifier\n",
    "from sklearn.ensemble import AdaBoostClassifier\n",
    "import json"
   ]
  },
  {
   "cell_type": "code",
   "execution_count": null,
   "metadata": {},
   "outputs": [],
   "source": [
    "with open('../datasets/index.json', 'r') as file:\n",
    "    files = json.load(file)"
   ]
  },
  {
   "cell_type": "code",
   "execution_count": null,
   "metadata": {},
   "outputs": [],
   "source": [
    "algorithms = {\n",
    "    #svm.SVC(kernel='linear'): 'Support Vector Machines (SVM)',\n",
    "    KNeighborsClassifier(n_neighbors=3): 'KNN',\n",
    "    LogisticRegression(): 'LR',\n",
    "    #DecisionTreeClassifier(): 'Decision Trees',\n",
    "    RandomForestClassifier(): 'RF',\n",
    "    GaussianNB(): 'NB',\n",
    "    GradientBoostingClassifier(): 'GB',\n",
    "    #MLPClassifier(): 'MLP',\n",
    "    AdaBoostClassifier(): 'ADA'\n",
    "}"
   ]
  },
  {
   "cell_type": "code",
   "execution_count": null,
   "metadata": {},
   "outputs": [],
   "source": [
    "performances = []\n",
    "\n",
    "for file in files:\n",
    "\n",
    "    dataset = pd.read_csv(f\"../datasets/{file['file']}\")\n",
    "\n",
    "    X = dataset.drop(file[\"target\"],axis=1)\n",
    "    y = dataset[file[\"target\"]]\n",
    "\n",
    "    n_splits = 1\n",
    "\n",
    "    splitted = False\n",
    "\n",
    "    if len(X)>15000 or len(X)<200:\n",
    "        continue\n",
    "    \n",
    "    n_splits = 2\n",
    "    stratified_kfold = StratifiedKFold(n_splits=n_splits, shuffle=True, random_state=33)\n",
    "    splits = stratified_kfold.split(X, y)\n",
    "    splits_array = [b for a,b in splits]\n",
    "    splitted = True\n",
    "\n",
    "    for split in range(n_splits):\n",
    "\n",
    "        X_split, y_split = X, y\n",
    "\n",
    "        if splitted:\n",
    "            X_split, y_split = X.iloc[splits_array[split]], y.iloc[splits_array[split]]\n",
    "\n",
    "        performance = {'dataset':f\"{file['name']}_{split+1}_of_{n_splits}\"}\n",
    "\n",
    "        for algorithm, algorithm_name in algorithms.items():\n",
    "\n",
    "            print(algorithm_name)\n",
    "\n",
    "            stratified_kfold = StratifiedKFold(n_splits=5, shuffle=True, random_state=33)\n",
    "\n",
    "            accuracies = cross_val_score(algorithm, X_split, y_split, cv=stratified_kfold)\n",
    "            \n",
    "            performance[algorithm_name] = accuracies.mean()\n",
    "\n",
    "        print(performance)\n",
    "        performances.append(performance)"
   ]
  },
  {
   "cell_type": "code",
   "execution_count": null,
   "metadata": {},
   "outputs": [],
   "source": [
    "performances_df = pd.DataFrame(performances)\n",
    "performances_df"
   ]
  },
  {
   "cell_type": "code",
   "execution_count": null,
   "metadata": {},
   "outputs": [],
   "source": [
    "def reorder(row, columns):\n",
    "    sorted_index = row.loc[columns].sort_values(ascending=False).index\n",
    "    new_columns = [f'v{i}' for i in range(1, len(sorted_index) + 1)]\n",
    "    return pd.Series(sorted_index.values, index=new_columns)"
   ]
  },
  {
   "cell_type": "code",
   "execution_count": null,
   "metadata": {},
   "outputs": [],
   "source": [
    "performance_df_sorted = performances_df.apply(reorder, axis=1, columns=performances_df.columns[1:])\n",
    "performance_df_sorted = pd.concat([performances_df[['dataset']], performance_df_sorted], axis=1)\n",
    "performance_df_sorted"
   ]
  },
  {
   "cell_type": "code",
   "execution_count": null,
   "metadata": {},
   "outputs": [],
   "source": [
    "performance_df_sorted['v1'].value_counts()"
   ]
  },
  {
   "cell_type": "code",
   "execution_count": 11,
   "metadata": {},
   "outputs": [],
   "source": [
    "performances_df.to_csv(f'../performances/splitted/1_of_{n_splits}.csv',index=False)\n",
    "performance_df_sorted.to_csv(f'../performances/splitted/1_of_{n_splits}_sort.csv',index=False)"
   ]
  }
 ],
 "metadata": {
  "kernelspec": {
   "display_name": "Python 3.10.9 64-bit (microsoft store)",
   "language": "python",
   "name": "python3"
  },
  "language_info": {
   "codemirror_mode": {
    "name": "ipython",
    "version": 3
   },
   "file_extension": ".py",
   "mimetype": "text/x-python",
   "name": "python",
   "nbconvert_exporter": "python",
   "pygments_lexer": "ipython3",
   "version": "3.10.11"
  },
  "orig_nbformat": 4,
  "vscode": {
   "interpreter": {
    "hash": "1961d10655999fc8e87af894448e5d9193e8f562985b7a28acbe1118e322c92a"
   }
  }
 },
 "nbformat": 4,
 "nbformat_minor": 2
}
