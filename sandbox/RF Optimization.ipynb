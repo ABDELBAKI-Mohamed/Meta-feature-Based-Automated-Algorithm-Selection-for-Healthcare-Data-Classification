{
 "cells": [
  {
   "cell_type": "code",
   "execution_count": 1,
   "metadata": {},
   "outputs": [],
   "source": [
    "import pandas as pd\n",
    "from sklearn.ensemble import RandomForestClassifier"
   ]
  },
  {
   "cell_type": "code",
   "execution_count": 2,
   "metadata": {},
   "outputs": [],
   "source": [
    "metadf = pd.read_csv(\"cleaned_metadf.csv\")"
   ]
  },
  {
   "cell_type": "code",
   "execution_count": 3,
   "metadata": {},
   "outputs": [],
   "source": [
    "X = metadf.drop('algorithm',axis=1)\n",
    "y = metadf['algorithm']"
   ]
  },
  {
   "cell_type": "code",
   "execution_count": 31,
   "metadata": {},
   "outputs": [
    {
     "name": "stdout",
     "output_type": "stream",
     "text": [
      "Cross-validation Accuracy Scores:  [0.6470588235294118, 0.5882352941176471, 0.5625, 0.625, 0.4375]\n",
      "Average Accuracy:  0.5720588235294117\n"
     ]
    }
   ],
   "source": [
    "import numpy as np\n",
    "from sklearn.ensemble import RandomForestClassifier\n",
    "from sklearn.model_selection import StratifiedKFold\n",
    "from imblearn.over_sampling import RandomOverSampler\n",
    "from sklearn.metrics import accuracy_score\n",
    "\n",
    "# Assuming you have already loaded your dataset into X (features) and y (labels) arrays\n",
    "\n",
    "# Convert X and y to numpy arrays\n",
    "X = np.array(X)\n",
    "y = np.array(y)\n",
    "\n",
    "# Set hyperparameters\n",
    "n_estimators = 10\n",
    "max_depth = 11\n",
    "\n",
    "# Create the random forest classifier with the specified hyperparameters\n",
    "rf_classifier = RandomForestClassifier(n_estimators=n_estimators, max_depth=max_depth, random_state=42)\n",
    "\n",
    "# Perform stratified k-fold cross-validation with 5 folds\n",
    "cv = StratifiedKFold(n_splits=5, shuffle=True, random_state=42)\n",
    "\n",
    "# Initialize the oversampler\n",
    "oversampler = RandomOverSampler(random_state=42)\n",
    "\n",
    "# Initialize lists to store the accuracy scores for each fold\n",
    "cv_scores = []\n",
    "\n",
    "# Perform cross-validation with class oversampling\n",
    "for train_index, test_index in cv.split(X, y):\n",
    "    X_train, X_test = X[train_index], X[test_index]\n",
    "    y_train, y_test = y[train_index], y[test_index]\n",
    "\n",
    "    # Perform class oversampling on the training set\n",
    "    X_train_resampled, y_train_resampled = oversampler.fit_resample(X_train, y_train)\n",
    "\n",
    "    # Fit the classifier on the resampled data\n",
    "    rf_classifier.fit(X_train_resampled, y_train_resampled)\n",
    "\n",
    "    # Make predictions on the test set\n",
    "    y_pred = rf_classifier.predict(X_test)\n",
    "\n",
    "    # Calculate accuracy for this fold\n",
    "    fold_accuracy = accuracy_score(y_test, y_pred)\n",
    "    cv_scores.append(fold_accuracy)\n",
    "\n",
    "# Print the cross-validation accuracy scores\n",
    "print(\"Cross-validation Accuracy Scores: \", cv_scores)\n",
    "\n",
    "# Print the average accuracy\n",
    "print(\"Average Accuracy: \", np.mean(cv_scores))\n"
   ]
  }
 ],
 "metadata": {
  "kernelspec": {
   "display_name": "Python 3.10.9 64-bit (microsoft store)",
   "language": "python",
   "name": "python3"
  },
  "language_info": {
   "codemirror_mode": {
    "name": "ipython",
    "version": 3
   },
   "file_extension": ".py",
   "mimetype": "text/x-python",
   "name": "python",
   "nbconvert_exporter": "python",
   "pygments_lexer": "ipython3",
   "version": "3.10.11"
  },
  "orig_nbformat": 4,
  "vscode": {
   "interpreter": {
    "hash": "1961d10655999fc8e87af894448e5d9193e8f562985b7a28acbe1118e322c92a"
   }
  }
 },
 "nbformat": 4,
 "nbformat_minor": 2
}
