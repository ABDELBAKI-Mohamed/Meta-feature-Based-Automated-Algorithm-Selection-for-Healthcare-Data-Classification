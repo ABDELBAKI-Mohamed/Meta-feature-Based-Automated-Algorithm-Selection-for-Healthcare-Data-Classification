{
 "cells": [
  {
   "cell_type": "code",
   "execution_count": null,
   "metadata": {},
   "outputs": [],
   "source": [
    "import pandas as pd"
   ]
  },
  {
   "cell_type": "code",
   "execution_count": null,
   "metadata": {},
   "outputs": [],
   "source": [
    "perfomance_splits = [1,2,4,10]"
   ]
  },
  {
   "cell_type": "code",
   "execution_count": null,
   "metadata": {},
   "outputs": [],
   "source": [
    "def filterSplits(df):\n",
    "    return df[df['dataset'].str.contains('_1_of_')]"
   ]
  },
  {
   "cell_type": "code",
   "execution_count": null,
   "metadata": {},
   "outputs": [],
   "source": [
    "concatenated_filtered_performances = pd.concat([filterSplits(pd.read_csv(f'../performances/splitted/1_of_{split}.csv')) for split in perfomance_splits], ignore_index=True)\n",
    "concatenated_filtered_performances"
   ]
  },
  {
   "cell_type": "code",
   "execution_count": null,
   "metadata": {},
   "outputs": [],
   "source": [
    "concatenated_filtered_sorted_performances = pd.concat([filterSplits(pd.read_csv(f'../performances/splitted/1_of_{split}_sort.csv')) for split in perfomance_splits], ignore_index=True)"
   ]
  },
  {
   "cell_type": "code",
   "execution_count": null,
   "metadata": {},
   "outputs": [],
   "source": [
    "concatenated_filtered_metafeatures = pd.concat(\n",
    "    [\n",
    "        pd.concat(\n",
    "            [pd.read_csv(f'../metafeatures/splits/labels_1_of_{split}.csv'),\n",
    "            pd.read_csv(f'../metafeatures/splits/1_of_{split}.csv')], axis=1) \n",
    "            for split in perfomance_splits\n",
    "    ], ignore_index=True)\n",
    "#dataset_first_columns = ['dataset'] + [col for col in concatenated_filtered_metafeatures.columns if col != 'dataset']\n",
    "#concatenated_filtered_metafeatures[dataset_first_columns]\n",
    "concatenated_filtered_metafeatures"
   ]
  },
  {
   "cell_type": "code",
   "execution_count": null,
   "metadata": {},
   "outputs": [],
   "source": [
    "performances = concatenated_filtered_sorted_performances[['dataset','v1']]"
   ]
  },
  {
   "cell_type": "code",
   "execution_count": null,
   "metadata": {},
   "outputs": [],
   "source": [
    "metafeatures = concatenated_filtered_metafeatures"
   ]
  },
  {
   "cell_type": "code",
   "execution_count": null,
   "metadata": {},
   "outputs": [],
   "source": [
    "unique_counts = metafeatures.nunique()\n",
    "columns_to_drop = unique_counts[unique_counts == 1].index\n",
    "metafeatures = metafeatures.drop(columns_to_drop, axis=1)\n",
    "metafeatures = metafeatures.dropna(axis=1)"
   ]
  },
  {
   "cell_type": "code",
   "execution_count": null,
   "metadata": {},
   "outputs": [],
   "source": [
    "metafeatures.set_index(\"dataset\", inplace=True)\n",
    "performances.set_index(\"dataset\", inplace=True)\n",
    "metadf = metafeatures.join(performances)\n",
    "metadf.reset_index(inplace=True)"
   ]
  },
  {
   "cell_type": "code",
   "execution_count": null,
   "metadata": {},
   "outputs": [],
   "source": [
    "metadf = metadf.drop(['dataset'],axis=1)"
   ]
  },
  {
   "cell_type": "code",
   "execution_count": null,
   "metadata": {},
   "outputs": [],
   "source": [
    "metadf.rename(columns={'v1': 'algorithm'}, inplace=True)"
   ]
  },
  {
   "cell_type": "code",
   "execution_count": null,
   "metadata": {},
   "outputs": [],
   "source": [
    "import optunaAlgorithms as opta"
   ]
  },
  {
   "cell_type": "code",
   "execution_count": null,
   "metadata": {},
   "outputs": [],
   "source": [
    "optunadAlgorithms = [\n",
    "    {'name':'ADA','classifier':opta.ada},\n",
    "    {'name':'GBM','classifier':opta.gbm},\n",
    "    {'name':'KNN','classifier':opta.knn},\n",
    "    {'name':'LR','classifier':opta.lr},\n",
    "    {'name':'NB','classifier':opta.nb},\n",
    "    {'name':'RF','classifier':opta.rf},\n",
    "    {'name':'SVM','classifier':opta.svm}\n",
    "]"
   ]
  },
  {
   "cell_type": "code",
   "execution_count": null,
   "metadata": {},
   "outputs": [],
   "source": [
    "X = metadf.drop('algorithm',axis=1)\n",
    "y = metadf['algorithm']"
   ]
  },
  {
   "cell_type": "code",
   "execution_count": 66,
   "metadata": {},
   "outputs": [
    {
     "name": "stdout",
     "output_type": "stream",
     "text": [
      "ADA broke !\n",
      "GBM broke !\n",
      "KNN broke !\n",
      "LR broke !\n",
      "NB broke !\n",
      "RF broke !\n",
      "SVM broke !\n"
     ]
    },
    {
     "name": "stderr",
     "output_type": "stream",
     "text": [
      "C:\\Users\\abdel\\AppData\\Local\\Packages\\PythonSoftwareFoundation.Python.3.10_qbz5n2kfra8p0\\LocalCache\\local-packages\\Python310\\site-packages\\sklearn\\model_selection\\_split.py:684: UserWarning: The least populated class in y has only 3 members, which is less than n_splits=5.\n",
      "  warnings.warn(\n",
      "C:\\Users\\abdel\\AppData\\Local\\Packages\\PythonSoftwareFoundation.Python.3.10_qbz5n2kfra8p0\\LocalCache\\local-packages\\Python310\\site-packages\\sklearn\\model_selection\\_split.py:684: UserWarning: The least populated class in y has only 3 members, which is less than n_splits=5.\n",
      "  warnings.warn(\n",
      "C:\\Users\\abdel\\AppData\\Local\\Packages\\PythonSoftwareFoundation.Python.3.10_qbz5n2kfra8p0\\LocalCache\\local-packages\\Python310\\site-packages\\sklearn\\model_selection\\_split.py:684: UserWarning: The least populated class in y has only 3 members, which is less than n_splits=5.\n",
      "  warnings.warn(\n",
      "C:\\Users\\abdel\\AppData\\Local\\Packages\\PythonSoftwareFoundation.Python.3.10_qbz5n2kfra8p0\\LocalCache\\local-packages\\Python310\\site-packages\\sklearn\\model_selection\\_split.py:684: UserWarning: The least populated class in y has only 3 members, which is less than n_splits=5.\n",
      "  warnings.warn(\n",
      "C:\\Users\\abdel\\AppData\\Local\\Packages\\PythonSoftwareFoundation.Python.3.10_qbz5n2kfra8p0\\LocalCache\\local-packages\\Python310\\site-packages\\sklearn\\model_selection\\_split.py:684: UserWarning: The least populated class in y has only 3 members, which is less than n_splits=5.\n",
      "  warnings.warn(\n",
      "C:\\Users\\abdel\\AppData\\Local\\Packages\\PythonSoftwareFoundation.Python.3.10_qbz5n2kfra8p0\\LocalCache\\local-packages\\Python310\\site-packages\\sklearn\\model_selection\\_split.py:684: UserWarning: The least populated class in y has only 3 members, which is less than n_splits=5.\n",
      "  warnings.warn(\n",
      "C:\\Users\\abdel\\AppData\\Local\\Packages\\PythonSoftwareFoundation.Python.3.10_qbz5n2kfra8p0\\LocalCache\\local-packages\\Python310\\site-packages\\sklearn\\model_selection\\_split.py:684: UserWarning: The least populated class in y has only 3 members, which is less than n_splits=5.\n",
      "  warnings.warn(\n"
     ]
    }
   ],
   "source": [
    "performances = []\n",
    "for algorithm in optunadAlgorithms:\n",
    "    try:\n",
    "        performances.append({**algorithm[\"classifier\"].optimize(X,y,100),'algorithm':algorithm['name']})\n",
    "    except Exception as e:\n",
    "        print(f\"{algorithm['name']} broke !\")"
   ]
  }
 ],
 "metadata": {
  "kernelspec": {
   "display_name": "Python 3.10.9 64-bit (microsoft store)",
   "language": "python",
   "name": "python3"
  },
  "language_info": {
   "codemirror_mode": {
    "name": "ipython",
    "version": 3
   },
   "file_extension": ".py",
   "mimetype": "text/x-python",
   "name": "python",
   "nbconvert_exporter": "python",
   "pygments_lexer": "ipython3",
   "version": "3.10.11"
  },
  "orig_nbformat": 4,
  "vscode": {
   "interpreter": {
    "hash": "1961d10655999fc8e87af894448e5d9193e8f562985b7a28acbe1118e322c92a"
   }
  }
 },
 "nbformat": 4,
 "nbformat_minor": 2
}
