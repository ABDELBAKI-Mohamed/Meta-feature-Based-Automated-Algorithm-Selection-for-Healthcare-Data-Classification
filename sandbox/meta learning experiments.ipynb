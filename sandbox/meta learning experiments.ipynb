{
 "cells": [
  {
   "cell_type": "code",
   "execution_count": null,
   "metadata": {},
   "outputs": [],
   "source": [
    "import pandas as pd\n",
    "import numpy as np"
   ]
  },
  {
   "cell_type": "code",
   "execution_count": null,
   "metadata": {},
   "outputs": [],
   "source": [
    "perfomance_splits = [1,2,4,10]"
   ]
  },
  {
   "cell_type": "code",
   "execution_count": null,
   "metadata": {},
   "outputs": [],
   "source": [
    "def filterSplits(df):\n",
    "    return df[df['dataset'].str.contains('_1_of_')]"
   ]
  },
  {
   "cell_type": "code",
   "execution_count": null,
   "metadata": {},
   "outputs": [],
   "source": [
    "performances_df = pd.concat([filterSplits(pd.read_csv(f'../performances/splitted/1_of_{split}.csv')) for split in perfomance_splits], ignore_index=True)"
   ]
  },
  {
   "cell_type": "code",
   "execution_count": null,
   "metadata": {},
   "outputs": [],
   "source": [
    "def reorder(row, columns):\n",
    "    sorted_index = row.loc[columns].sort_values(ascending=False).index\n",
    "    new_columns = [f'v{i}' for i in range(1, len(sorted_index) + 1)]\n",
    "    return pd.Series(sorted_index.values, index=new_columns)"
   ]
  },
  {
   "cell_type": "code",
   "execution_count": null,
   "metadata": {},
   "outputs": [],
   "source": [
    "performance_df_sorted = performances_df.apply(reorder, axis=1, columns=['RF','LR','GB','ADA'])\n",
    "performance_df_sorted = pd.concat([performances_df[['dataset']], performance_df_sorted], axis=1)"
   ]
  },
  {
   "cell_type": "code",
   "execution_count": null,
   "metadata": {},
   "outputs": [],
   "source": [
    "concatenated_filtered_sorted_performances = performance_df_sorted"
   ]
  },
  {
   "cell_type": "code",
   "execution_count": null,
   "metadata": {},
   "outputs": [],
   "source": [
    "concatenated_filtered_metafeatures = pd.concat(\n",
    "    [\n",
    "        pd.concat(\n",
    "            [pd.read_csv(f'../metafeatures/splits/labels_1_of_{split}.csv'),\n",
    "            pd.read_csv(f'../metafeatures/splits/1_of_{split}.csv')], axis=1) \n",
    "            for split in perfomance_splits\n",
    "    ], ignore_index=True)\n",
    "concatenated_filtered_metafeatures"
   ]
  },
  {
   "cell_type": "code",
   "execution_count": null,
   "metadata": {},
   "outputs": [],
   "source": [
    "performances = concatenated_filtered_sorted_performances[['dataset','v1']]"
   ]
  },
  {
   "cell_type": "code",
   "execution_count": null,
   "metadata": {},
   "outputs": [],
   "source": [
    "metafeatures = concatenated_filtered_metafeatures"
   ]
  },
  {
   "cell_type": "code",
   "execution_count": null,
   "metadata": {},
   "outputs": [],
   "source": [
    "unique_counts = metafeatures.nunique()\n",
    "columns_to_drop = unique_counts[unique_counts == 1].index\n",
    "metafeatures = metafeatures.drop(columns_to_drop, axis=1)\n",
    "metafeatures = metafeatures.dropna(axis=1)"
   ]
  },
  {
   "cell_type": "code",
   "execution_count": null,
   "metadata": {},
   "outputs": [],
   "source": [
    "inf_columns = metafeatures.columns[metafeatures.isin([float('inf')]).any()]\n",
    "metafeatures = metafeatures.drop(columns=inf_columns)\n"
   ]
  },
  {
   "cell_type": "code",
   "execution_count": null,
   "metadata": {},
   "outputs": [],
   "source": [
    "metafeatures.set_index(\"dataset\", inplace=True)\n",
    "performances.set_index(\"dataset\", inplace=True)\n",
    "metadf = metafeatures.join(performances)\n",
    "metadf.reset_index(inplace=True)"
   ]
  },
  {
   "cell_type": "code",
   "execution_count": null,
   "metadata": {},
   "outputs": [],
   "source": [
    "metadf = metadf.drop(['dataset'],axis=1)"
   ]
  },
  {
   "cell_type": "code",
   "execution_count": null,
   "metadata": {},
   "outputs": [],
   "source": [
    "metadf.rename(columns={'v1': 'algorithm'}, inplace=True)"
   ]
  },
  {
   "cell_type": "code",
   "execution_count": null,
   "metadata": {},
   "outputs": [],
   "source": [
    "import optunaAlgorithms as opta"
   ]
  },
  {
   "cell_type": "code",
   "execution_count": null,
   "metadata": {},
   "outputs": [],
   "source": [
    "optunadAlgorithms = [\n",
    "    #{'name':'ADA','classifier':opta.ada},\n",
    "    #{'name':'GBM','classifier':opta.gbm},\n",
    "    #{'name':'KNN','classifier':opta.knn},\n",
    "    #{'name':'LR','classifier':opta.lr},\n",
    "    #{'name':'NB','classifier':opta.nb},\n",
    "    {'name':'RF','classifier':opta.rf},\n",
    "    #{'name':'SVM','classifier':opta.svm}\n",
    "]"
   ]
  },
  {
   "cell_type": "code",
   "execution_count": null,
   "metadata": {},
   "outputs": [],
   "source": [
    "X = metadf.drop('algorithm',axis=1)\n",
    "y = metadf['algorithm']"
   ]
  },
  {
   "cell_type": "code",
   "execution_count": null,
   "metadata": {},
   "outputs": [],
   "source": [
    "metadf.to_csv(\"cleaned_metadf.csv\",index=False)"
   ]
  },
  {
   "cell_type": "code",
   "execution_count": null,
   "metadata": {},
   "outputs": [],
   "source": [
    "performances = []\n",
    "for algorithm in optunadAlgorithms:\n",
    "    try:\n",
    "        performances.append({**algorithm[\"classifier\"].optimize(X,y,1000),'algorithm':algorithm['name']})\n",
    "    except Exception as e:\n",
    "        print(f\"{algorithm['name']} broke !\")\n",
    "        print(\"why? \", e)"
   ]
  },
  {
   "cell_type": "code",
   "execution_count": null,
   "metadata": {},
   "outputs": [],
   "source": [
    "import json"
   ]
  },
  {
   "cell_type": "code",
   "execution_count": null,
   "metadata": {},
   "outputs": [],
   "source": [
    "perfomances_json = json.dumps(performances, indent=2)"
   ]
  },
  {
   "cell_type": "code",
   "execution_count": null,
   "metadata": {},
   "outputs": [],
   "source": [
    "with open('performances.json', 'w') as json_file:\n",
    "    json_file.write(perfomances_json)"
   ]
  },
  {
   "cell_type": "code",
   "execution_count": null,
   "metadata": {},
   "outputs": [],
   "source": [
    "[f\"{performance['algorithm']}: {performance['accuracy']}\" for performance in performances]"
   ]
  }
 ],
 "metadata": {
  "kernelspec": {
   "display_name": "Python 3.10.9 64-bit (microsoft store)",
   "language": "python",
   "name": "python3"
  },
  "language_info": {
   "codemirror_mode": {
    "name": "ipython",
    "version": 3
   },
   "file_extension": ".py",
   "mimetype": "text/x-python",
   "name": "python",
   "nbconvert_exporter": "python",
   "pygments_lexer": "ipython3",
   "version": "3.10.11"
  },
  "orig_nbformat": 4,
  "vscode": {
   "interpreter": {
    "hash": "1961d10655999fc8e87af894448e5d9193e8f562985b7a28acbe1118e322c92a"
   }
  }
 },
 "nbformat": 4,
 "nbformat_minor": 2
}
