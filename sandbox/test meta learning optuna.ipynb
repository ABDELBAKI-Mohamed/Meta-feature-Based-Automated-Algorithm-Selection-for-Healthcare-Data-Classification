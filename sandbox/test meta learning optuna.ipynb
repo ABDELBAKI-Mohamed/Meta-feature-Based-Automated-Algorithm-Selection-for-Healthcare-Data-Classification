{
 "cells": [
  {
   "cell_type": "code",
   "execution_count": 10,
   "metadata": {},
   "outputs": [],
   "source": [
    "import numpy as np\n",
    "import pandas as pd\n",
    "import optunaAlgorithms as opta"
   ]
  },
  {
   "cell_type": "code",
   "execution_count": 11,
   "metadata": {},
   "outputs": [],
   "source": [
    "metadf = pd.read_csv(\"../processing/metadf_fill_4algorithms.csv\")"
   ]
  },
  {
   "cell_type": "code",
   "execution_count": 12,
   "metadata": {},
   "outputs": [],
   "source": [
    "optunadAlgorithms = [\n",
    "    {'name':'ADA','classifier':opta.ada},\n",
    "    {'name':'GBM','classifier':opta.gbm},\n",
    "    {'name':'KNN','classifier':opta.knn},\n",
    "    {'name':'LR','classifier':opta.lr},\n",
    "    {'name':'NB','classifier':opta.nb},\n",
    "    {'name':'RF','classifier':opta.rf},\n",
    "    #{'name':'SVM','classifier':opta.svm}\n",
    "]"
   ]
  },
  {
   "cell_type": "code",
   "execution_count": 13,
   "metadata": {},
   "outputs": [],
   "source": [
    "X = metadf.drop('algorithm',axis=1)\n",
    "y = metadf['algorithm']"
   ]
  },
  {
   "cell_type": "code",
   "execution_count": 14,
   "metadata": {},
   "outputs": [],
   "source": [
    "performances = []\n",
    "for algorithm in optunadAlgorithms:\n",
    "    try:\n",
    "        performances.append({**algorithm[\"classifier\"].optimize(X,y,100),'algorithm':algorithm['name']})\n",
    "    except Exception as e:\n",
    "        print(f\"{algorithm['name']} broke !\")\n",
    "        print(\"why? \", e)"
   ]
  },
  {
   "cell_type": "code",
   "execution_count": 15,
   "metadata": {},
   "outputs": [],
   "source": [
    "import json"
   ]
  },
  {
   "cell_type": "code",
   "execution_count": 16,
   "metadata": {},
   "outputs": [],
   "source": [
    "perfomances_json = json.dumps(performances, indent=2)"
   ]
  },
  {
   "cell_type": "code",
   "execution_count": 17,
   "metadata": {},
   "outputs": [],
   "source": [
    "with open('performances_4algorithms.json', 'w') as json_file:\n",
    "    json_file.write(perfomances_json)"
   ]
  }
 ],
 "metadata": {
  "kernelspec": {
   "display_name": "Python 3.10.11 64-bit (microsoft store)",
   "language": "python",
   "name": "python3"
  },
  "language_info": {
   "codemirror_mode": {
    "name": "ipython",
    "version": 3
   },
   "file_extension": ".py",
   "mimetype": "text/x-python",
   "name": "python",
   "nbconvert_exporter": "python",
   "pygments_lexer": "ipython3",
   "version": "3.10.11"
  },
  "orig_nbformat": 4,
  "vscode": {
   "interpreter": {
    "hash": "1961d10655999fc8e87af894448e5d9193e8f562985b7a28acbe1118e322c92a"
   }
  }
 },
 "nbformat": 4,
 "nbformat_minor": 2
}
