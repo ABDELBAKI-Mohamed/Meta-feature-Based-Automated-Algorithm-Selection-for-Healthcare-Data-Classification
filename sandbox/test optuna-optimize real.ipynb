{
 "cells": [
  {
   "cell_type": "code",
   "execution_count": null,
   "metadata": {},
   "outputs": [],
   "source": [
    "import optunaAlgorithms as opta\n",
    "import pandas as pd\n",
    "import json"
   ]
  },
  {
   "cell_type": "code",
   "execution_count": null,
   "metadata": {},
   "outputs": [],
   "source": [
    "with open('../datasets/index.json', 'r') as file:\n",
    "    files = json.load(file)"
   ]
  },
  {
   "cell_type": "code",
   "execution_count": null,
   "metadata": {},
   "outputs": [],
   "source": [
    "optunadAlgorithms = [\n",
    "    {'name':'ADA','classifier':opta.ada},\n",
    "    {'name':'GBM','classifier':opta.gbm},\n",
    "    {'name':'KNN','classifier':opta.knn},\n",
    "    {'name':'LR','classifier':opta.lr},\n",
    "    {'name':'NB','classifier':opta.nb},\n",
    "    {'name':'RF','classifier':opta.rf},\n",
    "    {'name':'SVM','classifier':opta.svm}\n",
    "]"
   ]
  },
  {
   "cell_type": "code",
   "execution_count": null,
   "metadata": {},
   "outputs": [],
   "source": [
    "file = files[20]\n",
    "dataset = pd.read_csv(f'../datasets/{file[\"file\"]}')\n",
    "X = dataset.drop(file[\"target\"],axis=1)\n",
    "y = dataset[file[\"target\"]]"
   ]
  },
  {
   "cell_type": "code",
   "execution_count": null,
   "metadata": {},
   "outputs": [],
   "source": [
    "performances = []\n",
    "for algorithm in optunadAlgorithms:\n",
    "    try:\n",
    "        result = algorithm[\"classifier\"].optimize(X,y,10)\n",
    "        performances.append({**result,'algorithm':algorithm['name']})\n",
    "        print(f\"{algorithm['name']} in {result['elapsed_time']}s\")\n",
    "    except Exception as e:\n",
    "        print(f\"{algorithm['name']} broke !\")\n",
    "        print(f\"why? {e}\")"
   ]
  },
  {
   "cell_type": "code",
   "execution_count": 20,
   "metadata": {},
   "outputs": [
    {
     "data": {
      "text/html": [
       "<div>\n",
       "<style scoped>\n",
       "    .dataframe tbody tr th:only-of-type {\n",
       "        vertical-align: middle;\n",
       "    }\n",
       "\n",
       "    .dataframe tbody tr th {\n",
       "        vertical-align: top;\n",
       "    }\n",
       "\n",
       "    .dataframe thead th {\n",
       "        text-align: right;\n",
       "    }\n",
       "</style>\n",
       "<table border=\"1\" class=\"dataframe\">\n",
       "  <thead>\n",
       "    <tr style=\"text-align: right;\">\n",
       "      <th></th>\n",
       "      <th>accuracy</th>\n",
       "      <th>best_params</th>\n",
       "      <th>elapsed_time</th>\n",
       "      <th>algorithm</th>\n",
       "    </tr>\n",
       "  </thead>\n",
       "  <tbody>\n",
       "    <tr>\n",
       "      <th>0</th>\n",
       "      <td>0.900010</td>\n",
       "      <td>{'n_estimators': 123, 'learning_rate': 0.03145...</td>\n",
       "      <td>14</td>\n",
       "      <td>ADA</td>\n",
       "    </tr>\n",
       "    <tr>\n",
       "      <th>1</th>\n",
       "      <td>0.915330</td>\n",
       "      <td>{'n_estimators': 326, 'learning_rate': 0.02678...</td>\n",
       "      <td>459</td>\n",
       "      <td>GBM</td>\n",
       "    </tr>\n",
       "    <tr>\n",
       "      <th>2</th>\n",
       "      <td>0.900284</td>\n",
       "      <td>{'n_neighbors': 7, 'weights': 'uniform', 'p': 1}</td>\n",
       "      <td>65</td>\n",
       "      <td>KNN</td>\n",
       "    </tr>\n",
       "    <tr>\n",
       "      <th>3</th>\n",
       "      <td>0.693990</td>\n",
       "      <td>{'penalty': 'l2', 'C': 0.25052086314616956, 'm...</td>\n",
       "      <td>346</td>\n",
       "      <td>LR</td>\n",
       "    </tr>\n",
       "    <tr>\n",
       "      <th>4</th>\n",
       "      <td>0.744409</td>\n",
       "      <td>does not use hyperparameters</td>\n",
       "      <td>0</td>\n",
       "      <td>NB</td>\n",
       "    </tr>\n",
       "    <tr>\n",
       "      <th>5</th>\n",
       "      <td>0.953133</td>\n",
       "      <td>{'n_estimators': 69, 'max_depth': 8}</td>\n",
       "      <td>36</td>\n",
       "      <td>RF</td>\n",
       "    </tr>\n",
       "    <tr>\n",
       "      <th>6</th>\n",
       "      <td>0.906883</td>\n",
       "      <td>{'C': 0.89298213228074, 'gamma': 0.03546981155...</td>\n",
       "      <td>259</td>\n",
       "      <td>SVM</td>\n",
       "    </tr>\n",
       "  </tbody>\n",
       "</table>\n",
       "</div>"
      ],
      "text/plain": [
       "   accuracy                                        best_params  elapsed_time  \\\n",
       "0  0.900010  {'n_estimators': 123, 'learning_rate': 0.03145...            14   \n",
       "1  0.915330  {'n_estimators': 326, 'learning_rate': 0.02678...           459   \n",
       "2  0.900284   {'n_neighbors': 7, 'weights': 'uniform', 'p': 1}            65   \n",
       "3  0.693990  {'penalty': 'l2', 'C': 0.25052086314616956, 'm...           346   \n",
       "4  0.744409                       does not use hyperparameters             0   \n",
       "5  0.953133               {'n_estimators': 69, 'max_depth': 8}            36   \n",
       "6  0.906883  {'C': 0.89298213228074, 'gamma': 0.03546981155...           259   \n",
       "\n",
       "  algorithm  \n",
       "0       ADA  \n",
       "1       GBM  \n",
       "2       KNN  \n",
       "3        LR  \n",
       "4        NB  \n",
       "5        RF  \n",
       "6       SVM  "
      ]
     },
     "execution_count": 20,
     "metadata": {},
     "output_type": "execute_result"
    }
   ],
   "source": [
    "performances_df = pd.DataFrame(performances)\n",
    "performances_df"
   ]
  }
 ],
 "metadata": {
  "kernelspec": {
   "display_name": "Python 3.10.9 64-bit (microsoft store)",
   "language": "python",
   "name": "python3"
  },
  "language_info": {
   "codemirror_mode": {
    "name": "ipython",
    "version": 3
   },
   "file_extension": ".py",
   "mimetype": "text/x-python",
   "name": "python",
   "nbconvert_exporter": "python",
   "pygments_lexer": "ipython3",
   "version": "3.10.11"
  },
  "orig_nbformat": 4,
  "vscode": {
   "interpreter": {
    "hash": "1961d10655999fc8e87af894448e5d9193e8f562985b7a28acbe1118e322c92a"
   }
  }
 },
 "nbformat": 4,
 "nbformat_minor": 2
}
