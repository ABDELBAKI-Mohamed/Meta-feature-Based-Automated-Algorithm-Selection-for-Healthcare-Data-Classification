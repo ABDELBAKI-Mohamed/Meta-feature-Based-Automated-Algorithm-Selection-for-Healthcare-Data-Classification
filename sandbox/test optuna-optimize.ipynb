{
 "cells": [
  {
   "cell_type": "code",
   "execution_count": null,
   "metadata": {},
   "outputs": [],
   "source": [
    "from sklearn.datasets import load_iris\n",
    "import optunaAlgorithms as opta\n",
    "import pandas as pd"
   ]
  },
  {
   "cell_type": "code",
   "execution_count": null,
   "metadata": {},
   "outputs": [],
   "source": [
    "iris = load_iris()\n",
    "X, y = iris.data, iris.target"
   ]
  },
  {
   "cell_type": "code",
   "execution_count": null,
   "metadata": {},
   "outputs": [],
   "source": [
    "y.shape"
   ]
  },
  {
   "cell_type": "code",
   "execution_count": null,
   "metadata": {},
   "outputs": [],
   "source": [
    "optunadAlgorithms = [\n",
    "    {'name':'ADA','classifier':opta.ada},\n",
    "    {'name':'GBM','classifier':opta.gbm},\n",
    "    {'name':'KNN','classifier':opta.knn},\n",
    "    {'name':'LR','classifier':opta.lr},\n",
    "    {'name':'NB','classifier':opta.nb},\n",
    "    {'name':'RF','classifier':opta.rf},\n",
    "    {'name':'SVM','classifier':opta.svm}\n",
    "]"
   ]
  },
  {
   "cell_type": "code",
   "execution_count": null,
   "metadata": {},
   "outputs": [],
   "source": [
    "performances = []\n",
    "for algorithm in optunadAlgorithms:\n",
    "    try:\n",
    "        performances.append({**algorithm[\"classifier\"].optimize(X,y,100),'algorithm':algorithm['name']})\n",
    "    except Exception as e:\n",
    "        print(f\"{algorithm['name']} broke !\")\n",
    "        print(f\"why? {e}\")"
   ]
  },
  {
   "cell_type": "code",
   "execution_count": null,
   "metadata": {},
   "outputs": [],
   "source": [
    "performances_df = pd.DataFrame(performances)\n",
    "performances_df"
   ]
  }
 ],
 "metadata": {
  "kernelspec": {
   "display_name": "Python 3.10.9 64-bit (microsoft store)",
   "language": "python",
   "name": "python3"
  },
  "language_info": {
   "codemirror_mode": {
    "name": "ipython",
    "version": 3
   },
   "file_extension": ".py",
   "mimetype": "text/x-python",
   "name": "python",
   "nbconvert_exporter": "python",
   "pygments_lexer": "ipython3",
   "version": "3.10.11"
  },
  "orig_nbformat": 4,
  "vscode": {
   "interpreter": {
    "hash": "1961d10655999fc8e87af894448e5d9193e8f562985b7a28acbe1118e322c92a"
   }
  }
 },
 "nbformat": 4,
 "nbformat_minor": 2
}
