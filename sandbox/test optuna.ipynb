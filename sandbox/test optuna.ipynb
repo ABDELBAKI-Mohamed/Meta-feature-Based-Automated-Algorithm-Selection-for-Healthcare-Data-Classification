{
 "cells": [
  {
   "cell_type": "code",
   "execution_count": null,
   "metadata": {},
   "outputs": [],
   "source": [
    "import optuna\n",
    "from sklearn.svm import SVC\n",
    "from sklearn.datasets import load_iris\n",
    "from sklearn.model_selection import cross_val_score"
   ]
  },
  {
   "cell_type": "code",
   "execution_count": null,
   "metadata": {},
   "outputs": [],
   "source": [
    "optuna.logging.set_verbosity(optuna.logging.CRITICAL)"
   ]
  },
  {
   "cell_type": "code",
   "execution_count": null,
   "metadata": {},
   "outputs": [],
   "source": [
    "import warnings\n",
    "\n",
    "# Suppress only FutureWarning\n",
    "warnings.filterwarnings(\"ignore\", category=FutureWarning)"
   ]
  },
  {
   "cell_type": "code",
   "execution_count": null,
   "metadata": {},
   "outputs": [],
   "source": [
    "def objective(trial):\n",
    "    # Load the Iris dataset\n",
    "    iris = load_iris()\n",
    "    X, y = iris.data, iris.target\n",
    "    \n",
    "    # Define hyperparameter search space\n",
    "    C = trial.suggest_loguniform('C', 1e-4, 1e4)  # SVM regularization parameter\n",
    "    gamma = trial.suggest_loguniform('gamma', 1e-5, 1e1)  # RBF kernel parameter\n",
    "    \n",
    "    # Create SVM classifier with the suggested hyperparameters\n",
    "    clf = SVC(C=C, gamma=gamma, random_state=42)\n",
    "    \n",
    "    # Perform 5-fold cross-validation and return the mean accuracy\n",
    "    return cross_val_score(clf, X, y, n_jobs=-1, cv=5).mean()\n",
    "\n",
    "if __name__ == '__main__':\n",
    "    # Create a study object and optimize the objective function\n",
    "    study = optuna.create_study(direction='maximize')  # For accuracy, maximize the objective\n",
    "    study.optimize(objective, n_trials=100)  # Perform 100 trials (can increase for better optimization)\n",
    "    \n",
    "    # Print the best hyperparameters and their corresponding accuracy\n",
    "    best_params = study.best_params\n",
    "    best_accuracy = study.best_value\n",
    "    print(f\"Best Hyperparameters: {best_params}\")\n",
    "    print(f\"Best Accuracy: {best_accuracy:.2f}%\")"
   ]
  }
 ],
 "metadata": {
  "kernelspec": {
   "display_name": "Python 3.10.9 64-bit (microsoft store)",
   "language": "python",
   "name": "python3"
  },
  "language_info": {
   "codemirror_mode": {
    "name": "ipython",
    "version": 3
   },
   "file_extension": ".py",
   "mimetype": "text/x-python",
   "name": "python",
   "nbconvert_exporter": "python",
   "pygments_lexer": "ipython3",
   "version": "3.10.11"
  },
  "orig_nbformat": 4,
  "vscode": {
   "interpreter": {
    "hash": "1961d10655999fc8e87af894448e5d9193e8f562985b7a28acbe1118e322c92a"
   }
  }
 },
 "nbformat": 4,
 "nbformat_minor": 2
}
